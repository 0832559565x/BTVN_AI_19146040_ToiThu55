{
  "nbformat": 4,
  "nbformat_minor": 0,
  "metadata": {
    "colab": {
      "name": "Bài 4 Cifar_100_ANN",
      "provenance": [],
      "collapsed_sections": []
    },
    "kernelspec": {
      "name": "python3",
      "display_name": "Python 3"
    },
    "language_info": {
      "name": "python"
    },
    "accelerator": "GPU"
  },
  "cells": [
    {
      "cell_type": "code",
      "execution_count": null,
      "metadata": {
        "colab": {
          "base_uri": "https://localhost:8080/"
        },
        "id": "z_0re2b-Mbsu",
        "outputId": "27774270-9fc1-471c-f668-f76e5c12810f"
      },
      "outputs": [
        {
          "output_type": "stream",
          "name": "stdout",
          "text": [
            "Downloading data from https://www.cs.toronto.edu/~kriz/cifar-100-python.tar.gz\n",
            "169009152/169001437 [==============================] - 3s 0us/step\n",
            "169017344/169001437 [==============================] - 3s 0us/step\n"
          ]
        }
      ],
      "source": [
        "#import thư viện\n",
        "import numpy as np \n",
        "from keras.utils import np_utils \n",
        "from keras.datasets import cifar100 \n",
        "from keras.callbacks import EarlyStopping\n",
        "from keras.models import Sequential \n",
        "from keras.layers import Dense, Dropout \n",
        "from tensorflow.keras.optimizers import RMSprop \n",
        "import matplotlib.pyplot as plt  \n",
        "from keras.backend import dropout\n",
        "# chia tập dữ liệu thành 2 bộ train và test\n",
        "import matplotlib.pyplot as plt \n",
        "(x_train, y_train),(x_test,y_test) = cifar100.load_data()\n",
        "\n"
      ]
    },
    {
      "cell_type": "code",
      "source": [
        "x_train = x_train.reshape(50000,3072)\n",
        "x_test = x_test.reshape(10000,3072)\n",
        "x_train = x_train.astype('float32')\n",
        "x_test = x_test.astype('float32')\n",
        "x_train /=255\n",
        "x_test /=255\n",
        "y_train = np_utils.to_categorical(y_train,100)\n",
        "y_test = np_utils.to_categorical(y_test,100)\n"
      ],
      "metadata": {
        "id": "y1_HXbExPCOd"
      },
      "execution_count": null,
      "outputs": []
    },
    {
      "cell_type": "code",
      "source": [
        "#tạo mạng nơ-ron\n",
        "model=Sequential()\n",
        "model.add(Dense(512,activation='relu',input_shape=(3072,)))\n",
        "model.add(Dropout(0.1))\n",
        "model.add(Dense(512,activation='relu'))\n",
        "model.add(Dropout(0.1))\n",
        "model.add(Dense(100,activation='softmax'))\n",
        "model.summary()\n"
      ],
      "metadata": {
        "colab": {
          "base_uri": "https://localhost:8080/"
        },
        "id": "2nwKkLnNPGJI",
        "outputId": "7de2bfa4-75f1-4b10-f56e-f77ba0b595f9"
      },
      "execution_count": null,
      "outputs": [
        {
          "output_type": "stream",
          "name": "stdout",
          "text": [
            "Model: \"sequential\"\n",
            "_________________________________________________________________\n",
            " Layer (type)                Output Shape              Param #   \n",
            "=================================================================\n",
            " dense (Dense)               (None, 512)               1573376   \n",
            "                                                                 \n",
            " dropout (Dropout)           (None, 512)               0         \n",
            "                                                                 \n",
            " dense_1 (Dense)             (None, 512)               262656    \n",
            "                                                                 \n",
            " dropout_1 (Dropout)         (None, 512)               0         \n",
            "                                                                 \n",
            " dense_2 (Dense)             (None, 100)               51300     \n",
            "                                                                 \n",
            "=================================================================\n",
            "Total params: 1,887,332\n",
            "Trainable params: 1,887,332\n",
            "Non-trainable params: 0\n",
            "_________________________________________________________________\n"
          ]
        }
      ]
    },
    {
      "cell_type": "code",
      "source": [
        "#translate model\n",
        "model.compile(loss='categorical_crossentropy',optimizer=RMSprop(),metrics=['accuracy'])\n"
      ],
      "metadata": {
        "id": "IckwKgl6PIji"
      },
      "execution_count": null,
      "outputs": []
    },
    {
      "cell_type": "code",
      "source": [
        "#chạy model với số lần học là 50 và độ kiên nhẫn là 100\n",
        "history=model.fit(x_train,y_train,batch_size=128,epochs=50,verbose=1,validation_split=0.2,callbacks=[EarlyStopping(monitor='val_loss',patience=100)])\n"
      ],
      "metadata": {
        "colab": {
          "base_uri": "https://localhost:8080/"
        },
        "id": "gI26ng0HPLj-",
        "outputId": "f23eea7c-a94b-4090-c9bb-80efd2e6de75"
      },
      "execution_count": null,
      "outputs": [
        {
          "output_type": "stream",
          "name": "stdout",
          "text": [
            "Epoch 1/50\n",
            "313/313 [==============================] - 2s 6ms/step - loss: 3.4254 - accuracy: 0.1846 - val_loss: 3.5760 - val_accuracy: 0.1655\n",
            "Epoch 2/50\n",
            "313/313 [==============================] - 2s 6ms/step - loss: 3.3741 - accuracy: 0.1944 - val_loss: 3.5144 - val_accuracy: 0.1743\n",
            "Epoch 3/50\n",
            "313/313 [==============================] - 2s 6ms/step - loss: 3.3429 - accuracy: 0.1986 - val_loss: 3.4046 - val_accuracy: 0.1972\n",
            "Epoch 4/50\n",
            "313/313 [==============================] - 2s 7ms/step - loss: 3.3158 - accuracy: 0.2022 - val_loss: 3.4415 - val_accuracy: 0.1924\n",
            "Epoch 5/50\n",
            "313/313 [==============================] - 2s 6ms/step - loss: 3.2921 - accuracy: 0.2072 - val_loss: 3.4288 - val_accuracy: 0.1895\n",
            "Epoch 6/50\n",
            "313/313 [==============================] - 2s 6ms/step - loss: 3.2736 - accuracy: 0.2102 - val_loss: 3.4268 - val_accuracy: 0.1914\n",
            "Epoch 7/50\n",
            "313/313 [==============================] - 2s 6ms/step - loss: 3.2420 - accuracy: 0.2180 - val_loss: 3.4442 - val_accuracy: 0.1891\n",
            "Epoch 8/50\n",
            "313/313 [==============================] - 2s 5ms/step - loss: 3.2269 - accuracy: 0.2201 - val_loss: 3.3697 - val_accuracy: 0.2080\n",
            "Epoch 9/50\n",
            "313/313 [==============================] - 2s 5ms/step - loss: 3.2082 - accuracy: 0.2247 - val_loss: 3.5529 - val_accuracy: 0.1734\n",
            "Epoch 10/50\n",
            "313/313 [==============================] - 2s 5ms/step - loss: 3.2033 - accuracy: 0.2276 - val_loss: 3.4493 - val_accuracy: 0.1890\n",
            "Epoch 11/50\n",
            "313/313 [==============================] - 2s 5ms/step - loss: 3.1860 - accuracy: 0.2269 - val_loss: 3.5533 - val_accuracy: 0.1806\n",
            "Epoch 12/50\n",
            "313/313 [==============================] - 2s 5ms/step - loss: 3.1642 - accuracy: 0.2323 - val_loss: 3.4442 - val_accuracy: 0.1941\n",
            "Epoch 13/50\n",
            "313/313 [==============================] - 2s 6ms/step - loss: 3.1599 - accuracy: 0.2344 - val_loss: 3.3875 - val_accuracy: 0.2088\n",
            "Epoch 14/50\n",
            "313/313 [==============================] - 2s 6ms/step - loss: 3.1397 - accuracy: 0.2386 - val_loss: 3.4190 - val_accuracy: 0.2037\n",
            "Epoch 15/50\n",
            "313/313 [==============================] - 2s 6ms/step - loss: 3.1356 - accuracy: 0.2385 - val_loss: 3.5221 - val_accuracy: 0.1769\n",
            "Epoch 16/50\n",
            "313/313 [==============================] - 2s 6ms/step - loss: 3.1205 - accuracy: 0.2420 - val_loss: 3.5733 - val_accuracy: 0.1728\n",
            "Epoch 17/50\n",
            "313/313 [==============================] - 2s 8ms/step - loss: 3.1244 - accuracy: 0.2413 - val_loss: 3.4878 - val_accuracy: 0.1925\n",
            "Epoch 18/50\n",
            "313/313 [==============================] - 2s 6ms/step - loss: 3.1107 - accuracy: 0.2428 - val_loss: 3.4498 - val_accuracy: 0.1941\n",
            "Epoch 19/50\n",
            "313/313 [==============================] - 2s 5ms/step - loss: 3.0916 - accuracy: 0.2471 - val_loss: 3.4502 - val_accuracy: 0.2010\n",
            "Epoch 20/50\n",
            "313/313 [==============================] - 2s 5ms/step - loss: 3.0898 - accuracy: 0.2486 - val_loss: 3.4991 - val_accuracy: 0.1918\n",
            "Epoch 21/50\n",
            "313/313 [==============================] - 2s 5ms/step - loss: 3.0770 - accuracy: 0.2505 - val_loss: 3.4954 - val_accuracy: 0.1920\n",
            "Epoch 22/50\n",
            "313/313 [==============================] - 2s 5ms/step - loss: 3.0917 - accuracy: 0.2518 - val_loss: 3.4827 - val_accuracy: 0.1903\n",
            "Epoch 23/50\n",
            "313/313 [==============================] - 2s 6ms/step - loss: 3.0817 - accuracy: 0.2501 - val_loss: 3.4901 - val_accuracy: 0.1880\n",
            "Epoch 24/50\n",
            "313/313 [==============================] - 2s 6ms/step - loss: 3.0643 - accuracy: 0.2527 - val_loss: 3.5222 - val_accuracy: 0.1847\n",
            "Epoch 25/50\n",
            "313/313 [==============================] - 2s 5ms/step - loss: 3.0689 - accuracy: 0.2530 - val_loss: 3.5683 - val_accuracy: 0.1915\n",
            "Epoch 26/50\n",
            "313/313 [==============================] - 2s 5ms/step - loss: 3.0626 - accuracy: 0.2541 - val_loss: 3.4898 - val_accuracy: 0.1997\n",
            "Epoch 27/50\n",
            "313/313 [==============================] - 2s 5ms/step - loss: 3.0641 - accuracy: 0.2535 - val_loss: 3.5291 - val_accuracy: 0.1877\n",
            "Epoch 28/50\n",
            "313/313 [==============================] - 2s 6ms/step - loss: 3.0578 - accuracy: 0.2555 - val_loss: 3.6737 - val_accuracy: 0.1735\n",
            "Epoch 29/50\n",
            "313/313 [==============================] - 2s 6ms/step - loss: 3.0478 - accuracy: 0.2582 - val_loss: 3.5179 - val_accuracy: 0.1964\n",
            "Epoch 30/50\n",
            "313/313 [==============================] - 2s 6ms/step - loss: 3.0489 - accuracy: 0.2569 - val_loss: 3.5308 - val_accuracy: 0.1979\n",
            "Epoch 31/50\n",
            "313/313 [==============================] - 2s 6ms/step - loss: 3.0390 - accuracy: 0.2581 - val_loss: 3.5471 - val_accuracy: 0.2004\n",
            "Epoch 32/50\n",
            "313/313 [==============================] - 2s 6ms/step - loss: 3.0389 - accuracy: 0.2585 - val_loss: 3.5545 - val_accuracy: 0.1905\n",
            "Epoch 33/50\n",
            "313/313 [==============================] - 2s 5ms/step - loss: 3.0372 - accuracy: 0.2639 - val_loss: 3.4722 - val_accuracy: 0.2018\n",
            "Epoch 34/50\n",
            "313/313 [==============================] - 2s 6ms/step - loss: 3.0293 - accuracy: 0.2616 - val_loss: 3.5686 - val_accuracy: 0.1999\n",
            "Epoch 35/50\n",
            "313/313 [==============================] - 2s 6ms/step - loss: 3.0322 - accuracy: 0.2624 - val_loss: 3.5574 - val_accuracy: 0.1891\n",
            "Epoch 36/50\n",
            "313/313 [==============================] - 2s 5ms/step - loss: 3.0396 - accuracy: 0.2583 - val_loss: 3.5825 - val_accuracy: 0.1938\n",
            "Epoch 37/50\n",
            "313/313 [==============================] - 2s 6ms/step - loss: 3.0364 - accuracy: 0.2628 - val_loss: 3.5532 - val_accuracy: 0.1961\n",
            "Epoch 38/50\n",
            "313/313 [==============================] - 2s 6ms/step - loss: 3.0318 - accuracy: 0.2644 - val_loss: 3.6366 - val_accuracy: 0.1784\n",
            "Epoch 39/50\n",
            "313/313 [==============================] - 2s 6ms/step - loss: 3.0342 - accuracy: 0.2613 - val_loss: 3.6826 - val_accuracy: 0.1887\n",
            "Epoch 40/50\n",
            "313/313 [==============================] - 2s 6ms/step - loss: 3.0266 - accuracy: 0.2661 - val_loss: 3.7055 - val_accuracy: 0.1754\n",
            "Epoch 41/50\n",
            "313/313 [==============================] - 2s 6ms/step - loss: 3.0261 - accuracy: 0.2661 - val_loss: 3.6527 - val_accuracy: 0.2047\n",
            "Epoch 42/50\n",
            "313/313 [==============================] - 2s 6ms/step - loss: 3.0196 - accuracy: 0.2633 - val_loss: 3.6673 - val_accuracy: 0.1859\n",
            "Epoch 43/50\n",
            "313/313 [==============================] - 2s 6ms/step - loss: 3.0329 - accuracy: 0.2621 - val_loss: 3.6085 - val_accuracy: 0.1982\n",
            "Epoch 44/50\n",
            "313/313 [==============================] - 2s 5ms/step - loss: 3.0280 - accuracy: 0.2629 - val_loss: 3.7825 - val_accuracy: 0.1907\n",
            "Epoch 45/50\n",
            "313/313 [==============================] - 2s 5ms/step - loss: 3.0148 - accuracy: 0.2666 - val_loss: 3.6928 - val_accuracy: 0.1947\n",
            "Epoch 46/50\n",
            "313/313 [==============================] - 2s 5ms/step - loss: 3.0149 - accuracy: 0.2672 - val_loss: 3.7159 - val_accuracy: 0.1875\n",
            "Epoch 47/50\n",
            "313/313 [==============================] - 2s 5ms/step - loss: 3.0200 - accuracy: 0.2648 - val_loss: 3.8412 - val_accuracy: 0.1795\n",
            "Epoch 48/50\n",
            "313/313 [==============================] - 2s 5ms/step - loss: 3.0301 - accuracy: 0.2659 - val_loss: 3.5942 - val_accuracy: 0.1916\n",
            "Epoch 49/50\n",
            "313/313 [==============================] - 2s 5ms/step - loss: 3.0151 - accuracy: 0.2656 - val_loss: 3.7507 - val_accuracy: 0.1850\n",
            "Epoch 50/50\n",
            "313/313 [==============================] - 2s 5ms/step - loss: 3.0333 - accuracy: 0.2665 - val_loss: 3.8151 - val_accuracy: 0.1840\n"
          ]
        }
      ]
    },
    {
      "cell_type": "code",
      "source": [
        "#danh gia do chinh xac\n",
        "score=model.evaluate(x_test,y_test,verbose=0)\n",
        "print('Test_loss',score[0])\n",
        "print('Test accuracy',score[1])\n"
      ],
      "metadata": {
        "colab": {
          "base_uri": "https://localhost:8080/"
        },
        "id": "iARDaRF_QSd6",
        "outputId": "ffaac8f0-7c0b-4a8b-c9d9-02d2411f01b5"
      },
      "execution_count": null,
      "outputs": [
        {
          "output_type": "stream",
          "name": "stdout",
          "text": [
            "Test_loss 3.7691121101379395\n",
            "Test accuracy 0.19249999523162842\n"
          ]
        }
      ]
    },
    {
      "cell_type": "code",
      "source": [
        "plt.plot(history.history['accuracy'])\n",
        "plt.plot(history.history['val_accuracy'])\n",
        "plt.title('Model accuracy')\n",
        "plt.ylabel('accuracy')\n",
        "plt.xlabel('epochs')\n",
        "plt.legend(['train','validation'])\n",
        "plt.show()"
      ],
      "metadata": {
        "colab": {
          "base_uri": "https://localhost:8080/",
          "height": 295
        },
        "id": "K3540sj4QUY3",
        "outputId": "d07a82ff-1f3d-470a-a974-a9ad4114a614"
      },
      "execution_count": null,
      "outputs": [
        {
          "output_type": "display_data",
          "data": {
            "text/plain": [
              "<Figure size 432x288 with 1 Axes>"
            ],
            "image/png": "[encoded data removed]"
          },
          "metadata": {
            "needs_background": "light"
          }
        }
      ]
    }
  ]
}