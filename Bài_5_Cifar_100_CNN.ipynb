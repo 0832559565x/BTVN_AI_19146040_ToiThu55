{
  "nbformat": 4,
  "nbformat_minor": 0,
  "metadata": {
    "colab": {
      "name": "Bài 5 Cifar_100_CNN",
      "provenance": [],
      "collapsed_sections": []
    },
    "kernelspec": {
      "name": "python3",
      "display_name": "Python 3"
    },
    "language_info": {
      "name": "python"
    },
    "accelerator": "GPU"
  },
  "cells": [
    {
      "cell_type": "code",
      "source": [
        "import numpy as np\n",
        "from keras.models import Sequential\n",
        "from keras.layers import Dense, Dropout, Flatten, BatchNormalization, Activation\n",
        "from keras.layers.convolutional import Conv2D, MaxPooling2D\n",
        "from keras.utils import np_utils\n",
        "from keras.datasets import cifar100\n",
        "import PIL\n",
        "import matplotlib.pyplot as plt\n",
        "import tensorflow as tf\n",
        "from tensorflow.keras import layers\n",
        "from tensorflow.keras.models import Sequential\n",
        "from tensorflow import keras"
      ],
      "metadata": {
        "id": "WwisIc1eRKyw"
      },
      "execution_count": null,
      "outputs": []
    },
    {
      "cell_type": "code",
      "source": [
        "(x_train, y_train), (x_test, y_test) = cifar100.load_data()"
      ],
      "metadata": {
        "colab": {
          "base_uri": "https://localhost:8080/"
        },
        "id": "KP82sLulSDCk",
        "outputId": "f61de385-d4b3-4b39-feb4-902713362cad"
      },
      "execution_count": null,
      "outputs": [
        {
          "output_type": "stream",
          "name": "stdout",
          "text": [
            "Downloading data from https://www.cs.toronto.edu/~kriz/cifar-100-python.tar.gz\n",
            "169009152/169001437 [==============================] - 2s 0us/step\n",
            "169017344/169001437 [==============================] - 2s 0us/step\n"
          ]
        }
      ]
    },
    {
      "cell_type": "code",
      "source": [
        "import matplotlib.pyplot as plt"
      ],
      "metadata": {
        "id": "dN-MsNJtSGTG"
      },
      "execution_count": null,
      "outputs": []
    },
    {
      "cell_type": "code",
      "source": [
        "x_train = x_train.astype('float32')\n",
        "x_test = x_test.astype('float32')\n",
        "x_train = x_train/255\n",
        "x_test = x_test/255"
      ],
      "metadata": {
        "id": "pCtVP1e2SJrQ"
      },
      "execution_count": null,
      "outputs": []
    },
    {
      "cell_type": "code",
      "source": [
        "y_train = np_utils.to_categorical(y_train,100)\n",
        "y_test = np_utils.to_categorical(y_test,100)"
      ],
      "metadata": {
        "id": "fVMTVJLNSLzO"
      },
      "execution_count": null,
      "outputs": []
    },
    {
      "cell_type": "code",
      "source": [
        "from keras.layers.convolutional import Conv2D, MaxPooling2D\n",
        "from keras.models import Sequential\n",
        "from keras.layers import Dense, Dropout, Flatten, BatchNormalization, Activation\n",
        "from tensorflow.keras.models import Sequential\n",
        "model=Sequential()\n",
        "model.add(Conv2D(32,(3,3),activation='relu',kernel_initializer='he_uniform',padding='same',input_shape=(32,32,3)))\n",
        "model.add(Conv2D(32,(3,3),activation='relu',kernel_initializer='he_uniform',padding='same'))\n",
        "model.add(MaxPooling2D(2,2))"
      ],
      "metadata": {
        "id": "ZmyrIfx8SOH7"
      },
      "execution_count": null,
      "outputs": []
    },
    {
      "cell_type": "code",
      "source": [
        "model.add(MaxPooling2D(2,2))"
      ],
      "metadata": {
        "id": "rOvn1uFQST4q"
      },
      "execution_count": null,
      "outputs": []
    },
    {
      "cell_type": "code",
      "source": [
        "model.add(Flatten())"
      ],
      "metadata": {
        "id": "xwMbUkq2SWiA"
      },
      "execution_count": null,
      "outputs": []
    },
    {
      "cell_type": "code",
      "source": [
        "model.add(Dense(256, activation = 'relu', kernel_initializer = 'he_uniform'))"
      ],
      "metadata": {
        "id": "yq-NaQIASXca"
      },
      "execution_count": null,
      "outputs": []
    },
    {
      "cell_type": "code",
      "source": [
        "model.add(Dense(100, activation = 'softmax'))"
      ],
      "metadata": {
        "id": "Y0wA-I4pSac7"
      },
      "execution_count": null,
      "outputs": []
    },
    {
      "cell_type": "code",
      "source": [
        "from tensorflow.keras.optimizers import SGD"
      ],
      "metadata": {
        "id": "KhAygMyKSdHK"
      },
      "execution_count": null,
      "outputs": []
    },
    {
      "cell_type": "code",
      "source": [
        "opt = SGD(lr = 0.01, momentum = 0.9)"
      ],
      "metadata": {
        "colab": {
          "base_uri": "https://localhost:8080/"
        },
        "id": "Tol86S1hSfhO",
        "outputId": "e8a9be0e-1975-4a55-fe38-84a323c95a54"
      },
      "execution_count": null,
      "outputs": [
        {
          "output_type": "stream",
          "name": "stderr",
          "text": [
            "/usr/local/lib/python3.7/dist-packages/keras/optimizer_v2/gradient_descent.py:102: UserWarning: The `lr` argument is deprecated, use `learning_rate` instead.\n",
            "  super(SGD, self).__init__(name, **kwargs)\n"
          ]
        }
      ]
    },
    {
      "cell_type": "code",
      "source": [
        "from keras.backend import categorical_crossentropy\n",
        "model.compile(optimizer = opt, loss = 'categorical_crossentropy', metrics = ['accuracy'])"
      ],
      "metadata": {
        "id": "rdlWvzz9ShyV"
      },
      "execution_count": null,
      "outputs": []
    },
    {
      "cell_type": "code",
      "source": [
        "history_1 = model.fit(x_train, y_train, epochs = 100, batch_size = 256, validation_data = (x_test, y_test))"
      ],
      "metadata": {
        "colab": {
          "base_uri": "https://localhost:8080/"
        },
        "id": "ERR8q-moSlh-",
        "outputId": "34299fe2-f2db-461e-d598-225ddcac01d9"
      },
      "execution_count": null,
      "outputs": [
        {
          "output_type": "stream",
          "name": "stdout",
          "text": [
            "Epoch 1/100\n",
            "196/196 [==============================] - 6s 32ms/step - loss: 0.0028 - accuracy: 0.9997 - val_loss: 8.4636 - val_accuracy: 0.3685\n",
            "Epoch 2/100\n",
            "196/196 [==============================] - 6s 29ms/step - loss: 0.0024 - accuracy: 0.9997 - val_loss: 8.5038 - val_accuracy: 0.3688\n",
            "Epoch 3/100\n",
            "196/196 [==============================] - 6s 29ms/step - loss: 0.0021 - accuracy: 0.9998 - val_loss: 8.4909 - val_accuracy: 0.3698\n",
            "Epoch 4/100\n",
            "196/196 [==============================] - 6s 29ms/step - loss: 0.0024 - accuracy: 0.9997 - val_loss: 8.5277 - val_accuracy: 0.3665\n",
            "Epoch 5/100\n",
            "196/196 [==============================] - 6s 29ms/step - loss: 0.0022 - accuracy: 0.9997 - val_loss: 8.5337 - val_accuracy: 0.3672\n",
            "Epoch 6/100\n",
            "196/196 [==============================] - 6s 28ms/step - loss: 0.0026 - accuracy: 0.9997 - val_loss: 8.5475 - val_accuracy: 0.3685\n",
            "Epoch 7/100\n",
            "196/196 [==============================] - 6s 29ms/step - loss: 0.0025 - accuracy: 0.9997 - val_loss: 8.5312 - val_accuracy: 0.3678\n",
            "Epoch 8/100\n",
            "196/196 [==============================] - 6s 29ms/step - loss: 0.0022 - accuracy: 0.9997 - val_loss: 8.5631 - val_accuracy: 0.3668\n",
            "Epoch 9/100\n",
            "196/196 [==============================] - 6s 29ms/step - loss: 0.0023 - accuracy: 0.9997 - val_loss: 8.5465 - val_accuracy: 0.3673\n",
            "Epoch 10/100\n",
            "196/196 [==============================] - 6s 28ms/step - loss: 0.0025 - accuracy: 0.9997 - val_loss: 8.5753 - val_accuracy: 0.3671\n",
            "Epoch 11/100\n",
            "196/196 [==============================] - 6s 28ms/step - loss: 0.0020 - accuracy: 0.9998 - val_loss: 8.5973 - val_accuracy: 0.3663\n",
            "Epoch 12/100\n",
            "196/196 [==============================] - 5s 28ms/step - loss: 0.0025 - accuracy: 0.9997 - val_loss: 8.5634 - val_accuracy: 0.3691\n",
            "Epoch 13/100\n",
            "196/196 [==============================] - 6s 28ms/step - loss: 0.0023 - accuracy: 0.9997 - val_loss: 8.5675 - val_accuracy: 0.3680\n",
            "Epoch 14/100\n",
            "196/196 [==============================] - 5s 28ms/step - loss: 0.0021 - accuracy: 0.9997 - val_loss: 8.5804 - val_accuracy: 0.3679\n",
            "Epoch 15/100\n",
            "196/196 [==============================] - 5s 28ms/step - loss: 0.0023 - accuracy: 0.9997 - val_loss: 8.5764 - val_accuracy: 0.3681\n",
            "Epoch 16/100\n",
            "196/196 [==============================] - 6s 28ms/step - loss: 0.0025 - accuracy: 0.9997 - val_loss: 8.5957 - val_accuracy: 0.3680\n",
            "Epoch 17/100\n",
            "196/196 [==============================] - 5s 28ms/step - loss: 0.0027 - accuracy: 0.9996 - val_loss: 8.5992 - val_accuracy: 0.3692\n",
            "Epoch 18/100\n",
            "196/196 [==============================] - 5s 28ms/step - loss: 0.0019 - accuracy: 0.9997 - val_loss: 8.5800 - val_accuracy: 0.3699\n",
            "Epoch 19/100\n",
            "196/196 [==============================] - 6s 28ms/step - loss: 0.0021 - accuracy: 0.9997 - val_loss: 8.5934 - val_accuracy: 0.3679\n",
            "Epoch 20/100\n",
            "196/196 [==============================] - 6s 28ms/step - loss: 0.0016 - accuracy: 0.9998 - val_loss: 8.6437 - val_accuracy: 0.3685\n",
            "Epoch 21/100\n",
            "196/196 [==============================] - 6s 29ms/step - loss: 0.0024 - accuracy: 0.9997 - val_loss: 8.6148 - val_accuracy: 0.3686\n",
            "Epoch 22/100\n",
            "196/196 [==============================] - 5s 28ms/step - loss: 0.0025 - accuracy: 0.9995 - val_loss: 8.6451 - val_accuracy: 0.3666\n",
            "Epoch 23/100\n",
            "196/196 [==============================] - 5s 28ms/step - loss: 0.0031 - accuracy: 0.9994 - val_loss: 8.6435 - val_accuracy: 0.3672\n",
            "Epoch 24/100\n",
            "196/196 [==============================] - 5s 28ms/step - loss: 0.0030 - accuracy: 0.9995 - val_loss: 8.6630 - val_accuracy: 0.3661\n",
            "Epoch 25/100\n",
            "196/196 [==============================] - 5s 28ms/step - loss: 0.0018 - accuracy: 0.9998 - val_loss: 8.6858 - val_accuracy: 0.3686\n",
            "Epoch 26/100\n",
            "196/196 [==============================] - 5s 28ms/step - loss: 0.0018 - accuracy: 0.9998 - val_loss: 8.6806 - val_accuracy: 0.3653\n",
            "Epoch 27/100\n",
            "196/196 [==============================] - 6s 29ms/step - loss: 0.0020 - accuracy: 0.9998 - val_loss: 8.6582 - val_accuracy: 0.3666\n",
            "Epoch 28/100\n",
            "196/196 [==============================] - 6s 28ms/step - loss: 0.0018 - accuracy: 0.9997 - val_loss: 8.7116 - val_accuracy: 0.3649\n",
            "Epoch 29/100\n",
            "196/196 [==============================] - 6s 28ms/step - loss: 0.0021 - accuracy: 0.9997 - val_loss: 8.6762 - val_accuracy: 0.3677\n",
            "Epoch 30/100\n",
            "196/196 [==============================] - 6s 28ms/step - loss: 0.0021 - accuracy: 0.9997 - val_loss: 8.7069 - val_accuracy: 0.3693\n",
            "Epoch 31/100\n",
            "196/196 [==============================] - 6s 28ms/step - loss: 0.0021 - accuracy: 0.9997 - val_loss: 8.6738 - val_accuracy: 0.3664\n",
            "Epoch 32/100\n",
            "196/196 [==============================] - 6s 29ms/step - loss: 0.0022 - accuracy: 0.9997 - val_loss: 8.7031 - val_accuracy: 0.3687\n",
            "Epoch 33/100\n",
            "196/196 [==============================] - 6s 29ms/step - loss: 0.0021 - accuracy: 0.9997 - val_loss: 8.7220 - val_accuracy: 0.3669\n",
            "Epoch 34/100\n",
            "196/196 [==============================] - 5s 28ms/step - loss: 0.0020 - accuracy: 0.9997 - val_loss: 8.6979 - val_accuracy: 0.3692\n",
            "Epoch 35/100\n",
            "196/196 [==============================] - 6s 28ms/step - loss: 0.0021 - accuracy: 0.9997 - val_loss: 8.7137 - val_accuracy: 0.3681\n",
            "Epoch 36/100\n",
            "196/196 [==============================] - 5s 28ms/step - loss: 0.0019 - accuracy: 0.9997 - val_loss: 8.7478 - val_accuracy: 0.3676\n",
            "Epoch 37/100\n",
            "196/196 [==============================] - 5s 28ms/step - loss: 0.0020 - accuracy: 0.9997 - val_loss: 8.7381 - val_accuracy: 0.3690\n",
            "Epoch 38/100\n",
            "196/196 [==============================] - 6s 29ms/step - loss: 0.0024 - accuracy: 0.9996 - val_loss: 8.7245 - val_accuracy: 0.3690\n",
            "Epoch 39/100\n",
            "196/196 [==============================] - 5s 28ms/step - loss: 0.0017 - accuracy: 0.9998 - val_loss: 8.7235 - val_accuracy: 0.3673\n",
            "Epoch 40/100\n",
            "196/196 [==============================] - 6s 28ms/step - loss: 0.0018 - accuracy: 0.9997 - val_loss: 8.7702 - val_accuracy: 0.3685\n",
            "Epoch 41/100\n",
            "196/196 [==============================] - 6s 29ms/step - loss: 0.0014 - accuracy: 0.9998 - val_loss: 8.7580 - val_accuracy: 0.3692\n",
            "Epoch 42/100\n",
            "196/196 [==============================] - 6s 28ms/step - loss: 0.0019 - accuracy: 0.9998 - val_loss: 8.7468 - val_accuracy: 0.3693\n",
            "Epoch 43/100\n",
            "196/196 [==============================] - 6s 28ms/step - loss: 0.0018 - accuracy: 0.9997 - val_loss: 8.7773 - val_accuracy: 0.3674\n",
            "Epoch 44/100\n",
            "196/196 [==============================] - 6s 29ms/step - loss: 0.0024 - accuracy: 0.9997 - val_loss: 8.7548 - val_accuracy: 0.3662\n",
            "Epoch 45/100\n",
            "196/196 [==============================] - 6s 29ms/step - loss: 0.0018 - accuracy: 0.9998 - val_loss: 8.7708 - val_accuracy: 0.3662\n",
            "Epoch 46/100\n",
            "196/196 [==============================] - 6s 29ms/step - loss: 0.0018 - accuracy: 0.9997 - val_loss: 8.7719 - val_accuracy: 0.3670\n",
            "Epoch 47/100\n",
            "196/196 [==============================] - 6s 30ms/step - loss: 0.0016 - accuracy: 0.9997 - val_loss: 8.8041 - val_accuracy: 0.3674\n",
            "Epoch 48/100\n",
            "196/196 [==============================] - 6s 29ms/step - loss: 0.0015 - accuracy: 0.9998 - val_loss: 8.8134 - val_accuracy: 0.3672\n",
            "Epoch 49/100\n",
            "196/196 [==============================] - 6s 29ms/step - loss: 0.0017 - accuracy: 0.9997 - val_loss: 8.8123 - val_accuracy: 0.3689\n",
            "Epoch 50/100\n",
            "196/196 [==============================] - 6s 29ms/step - loss: 0.0017 - accuracy: 0.9997 - val_loss: 8.7922 - val_accuracy: 0.3673\n",
            "Epoch 51/100\n",
            "196/196 [==============================] - 6s 28ms/step - loss: 0.0016 - accuracy: 0.9998 - val_loss: 8.8168 - val_accuracy: 0.3682\n",
            "Epoch 52/100\n",
            "196/196 [==============================] - 6s 29ms/step - loss: 0.0020 - accuracy: 0.9998 - val_loss: 8.7859 - val_accuracy: 0.3676\n",
            "Epoch 53/100\n",
            "196/196 [==============================] - 6s 28ms/step - loss: 0.0017 - accuracy: 0.9998 - val_loss: 8.8198 - val_accuracy: 0.3676\n",
            "Epoch 54/100\n",
            "196/196 [==============================] - 6s 28ms/step - loss: 0.0021 - accuracy: 0.9996 - val_loss: 8.8081 - val_accuracy: 0.3687\n",
            "Epoch 55/100\n",
            "196/196 [==============================] - 6s 28ms/step - loss: 0.0014 - accuracy: 0.9997 - val_loss: 8.8347 - val_accuracy: 0.3674\n",
            "Epoch 56/100\n",
            "196/196 [==============================] - 6s 29ms/step - loss: 0.0018 - accuracy: 0.9997 - val_loss: 8.8374 - val_accuracy: 0.3681\n",
            "Epoch 57/100\n",
            "196/196 [==============================] - 6s 28ms/step - loss: 0.0014 - accuracy: 0.9997 - val_loss: 8.8188 - val_accuracy: 0.3681\n",
            "Epoch 58/100\n",
            "196/196 [==============================] - 6s 28ms/step - loss: 0.0016 - accuracy: 0.9997 - val_loss: 8.8357 - val_accuracy: 0.3674\n",
            "Epoch 59/100\n",
            "196/196 [==============================] - 6s 28ms/step - loss: 0.0018 - accuracy: 0.9997 - val_loss: 8.8376 - val_accuracy: 0.3684\n",
            "Epoch 60/100\n",
            "196/196 [==============================] - 5s 28ms/step - loss: 0.0013 - accuracy: 0.9998 - val_loss: 8.8720 - val_accuracy: 0.3683\n",
            "Epoch 61/100\n",
            "196/196 [==============================] - 6s 28ms/step - loss: 0.0017 - accuracy: 0.9997 - val_loss: 8.8429 - val_accuracy: 0.3681\n",
            "Epoch 62/100\n",
            "196/196 [==============================] - 6s 29ms/step - loss: 0.0016 - accuracy: 0.9997 - val_loss: 8.8501 - val_accuracy: 0.3682\n",
            "Epoch 63/100\n",
            "196/196 [==============================] - 6s 28ms/step - loss: 0.0014 - accuracy: 0.9998 - val_loss: 8.8906 - val_accuracy: 0.3682\n",
            "Epoch 64/100\n",
            "196/196 [==============================] - 6s 29ms/step - loss: 0.0018 - accuracy: 0.9997 - val_loss: 8.8760 - val_accuracy: 0.3677\n",
            "Epoch 65/100\n",
            "196/196 [==============================] - 5s 28ms/step - loss: 0.0017 - accuracy: 0.9997 - val_loss: 8.9159 - val_accuracy: 0.3645\n",
            "Epoch 66/100\n",
            "196/196 [==============================] - 5s 28ms/step - loss: 0.0015 - accuracy: 0.9997 - val_loss: 8.8617 - val_accuracy: 0.3685\n",
            "Epoch 67/100\n",
            "196/196 [==============================] - 5s 28ms/step - loss: 0.0013 - accuracy: 0.9997 - val_loss: 8.8984 - val_accuracy: 0.3673\n",
            "Epoch 68/100\n",
            "196/196 [==============================] - 6s 29ms/step - loss: 0.0015 - accuracy: 0.9997 - val_loss: 8.9079 - val_accuracy: 0.3675\n",
            "Epoch 69/100\n",
            "196/196 [==============================] - 5s 28ms/step - loss: 0.0019 - accuracy: 0.9997 - val_loss: 8.8929 - val_accuracy: 0.3664\n",
            "Epoch 70/100\n",
            "196/196 [==============================] - 5s 28ms/step - loss: 0.0014 - accuracy: 0.9997 - val_loss: 8.9081 - val_accuracy: 0.3683\n",
            "Epoch 71/100\n",
            "196/196 [==============================] - 6s 28ms/step - loss: 0.0016 - accuracy: 0.9997 - val_loss: 8.9033 - val_accuracy: 0.3666\n",
            "Epoch 72/100\n",
            "196/196 [==============================] - 6s 29ms/step - loss: 0.0016 - accuracy: 0.9997 - val_loss: 8.8932 - val_accuracy: 0.3684\n",
            "Epoch 73/100\n",
            "196/196 [==============================] - 5s 28ms/step - loss: 0.0016 - accuracy: 0.9997 - val_loss: 8.9211 - val_accuracy: 0.3676\n",
            "Epoch 74/100\n",
            "196/196 [==============================] - 6s 28ms/step - loss: 0.0013 - accuracy: 0.9998 - val_loss: 8.9357 - val_accuracy: 0.3686\n",
            "Epoch 75/100\n",
            "196/196 [==============================] - 5s 28ms/step - loss: 0.0015 - accuracy: 0.9998 - val_loss: 8.9310 - val_accuracy: 0.3685\n",
            "Epoch 76/100\n",
            "196/196 [==============================] - 5s 28ms/step - loss: 0.0011 - accuracy: 0.9998 - val_loss: 8.9421 - val_accuracy: 0.3668\n",
            "Epoch 77/100\n",
            "196/196 [==============================] - 5s 28ms/step - loss: 0.0015 - accuracy: 0.9997 - val_loss: 8.9590 - val_accuracy: 0.3660\n",
            "Epoch 78/100\n",
            "196/196 [==============================] - 5s 28ms/step - loss: 0.0013 - accuracy: 0.9998 - val_loss: 8.9451 - val_accuracy: 0.3651\n",
            "Epoch 79/100\n",
            "196/196 [==============================] - 6s 29ms/step - loss: 0.0014 - accuracy: 0.9998 - val_loss: 8.9761 - val_accuracy: 0.3670\n",
            "Epoch 80/100\n",
            "196/196 [==============================] - 5s 28ms/step - loss: 0.0015 - accuracy: 0.9997 - val_loss: 8.9488 - val_accuracy: 0.3674\n",
            "Epoch 81/100\n",
            "196/196 [==============================] - 5s 28ms/step - loss: 0.0013 - accuracy: 0.9998 - val_loss: 8.9629 - val_accuracy: 0.3701\n",
            "Epoch 82/100\n",
            "196/196 [==============================] - 6s 29ms/step - loss: 0.0012 - accuracy: 0.9998 - val_loss: 9.0050 - val_accuracy: 0.3681\n",
            "Epoch 83/100\n",
            "196/196 [==============================] - 6s 29ms/step - loss: 0.0013 - accuracy: 0.9998 - val_loss: 8.9674 - val_accuracy: 0.3667\n",
            "Epoch 84/100\n",
            "196/196 [==============================] - 6s 28ms/step - loss: 0.0016 - accuracy: 0.9997 - val_loss: 8.9617 - val_accuracy: 0.3680\n",
            "Epoch 85/100\n",
            "196/196 [==============================] - 6s 28ms/step - loss: 0.0013 - accuracy: 0.9997 - val_loss: 8.9830 - val_accuracy: 0.3697\n",
            "Epoch 86/100\n",
            "196/196 [==============================] - 5s 28ms/step - loss: 0.0012 - accuracy: 0.9998 - val_loss: 8.9844 - val_accuracy: 0.3663\n",
            "Epoch 87/100\n",
            "196/196 [==============================] - 6s 28ms/step - loss: 0.0016 - accuracy: 0.9997 - val_loss: 8.9915 - val_accuracy: 0.3685\n",
            "Epoch 88/100\n",
            "196/196 [==============================] - 5s 28ms/step - loss: 0.0015 - accuracy: 0.9997 - val_loss: 9.0038 - val_accuracy: 0.3685\n",
            "Epoch 89/100\n",
            "196/196 [==============================] - 5s 28ms/step - loss: 0.0014 - accuracy: 0.9997 - val_loss: 8.9954 - val_accuracy: 0.3671\n",
            "Epoch 90/100\n",
            "196/196 [==============================] - 5s 28ms/step - loss: 0.0012 - accuracy: 0.9998 - val_loss: 8.9868 - val_accuracy: 0.3694\n",
            "Epoch 91/100\n",
            "196/196 [==============================] - 6s 28ms/step - loss: 0.0014 - accuracy: 0.9997 - val_loss: 8.9992 - val_accuracy: 0.3676\n",
            "Epoch 92/100\n",
            "196/196 [==============================] - 6s 29ms/step - loss: 0.0017 - accuracy: 0.9997 - val_loss: 9.0030 - val_accuracy: 0.3669\n",
            "Epoch 93/100\n",
            "196/196 [==============================] - 6s 29ms/step - loss: 0.0013 - accuracy: 0.9997 - val_loss: 9.0028 - val_accuracy: 0.3671\n",
            "Epoch 94/100\n",
            "196/196 [==============================] - 5s 28ms/step - loss: 0.0013 - accuracy: 0.9997 - val_loss: 9.0112 - val_accuracy: 0.3680\n",
            "Epoch 95/100\n",
            "196/196 [==============================] - 5s 28ms/step - loss: 0.0015 - accuracy: 0.9997 - val_loss: 9.0099 - val_accuracy: 0.3664\n",
            "Epoch 96/100\n",
            "196/196 [==============================] - 5s 27ms/step - loss: 0.0013 - accuracy: 0.9998 - val_loss: 9.0258 - val_accuracy: 0.3688\n",
            "Epoch 97/100\n",
            "196/196 [==============================] - 5s 28ms/step - loss: 0.0015 - accuracy: 0.9997 - val_loss: 9.0130 - val_accuracy: 0.3656\n",
            "Epoch 98/100\n",
            "196/196 [==============================] - 5s 28ms/step - loss: 0.0014 - accuracy: 0.9997 - val_loss: 9.0224 - val_accuracy: 0.3663\n",
            "Epoch 99/100\n",
            "196/196 [==============================] - 5s 28ms/step - loss: 0.0012 - accuracy: 0.9997 - val_loss: 9.0355 - val_accuracy: 0.3682\n",
            "Epoch 100/100\n",
            "196/196 [==============================] - 5s 28ms/step - loss: 0.0013 - accuracy: 0.9997 - val_loss: 9.0360 - val_accuracy: 0.3688\n"
          ]
        }
      ]
    },
    {
      "cell_type": "code",
      "source": [
        ""
      ],
      "metadata": {
        "id": "OQBFE3DBVITO"
      },
      "execution_count": null,
      "outputs": []
    }
  ]
}