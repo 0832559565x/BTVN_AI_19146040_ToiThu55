{
  "nbformat": 4,
  "nbformat_minor": 0,
  "metadata": {
    "colab": {
      "name": "Bài 1 MNIST",
      "provenance": [],
      "collapsed_sections": []
    },
    "kernelspec": {
      "name": "python3",
      "display_name": "Python 3"
    },
    "language_info": {
      "name": "python"
    }
  },
  "cells": [
    {
      "cell_type": "code",
      "execution_count": null,
      "metadata": {
        "id": "_dtgKSN6p5mv"
      },
      "outputs": [],
      "source": [
        "#import thư viện\n",
        "import numpy as np \n",
        "from keras.utils import np_utils \n",
        "from keras.datasets import mnist \n",
        "from keras.models import Sequential \n",
        "from keras.layers import Dense, Dropout \n",
        "from tensorflow.keras.optimizers import RMSprop \n",
        "import matplotlib.pyplot as plt \n",
        "from keras.backend import dropout\n",
        "from keras.callbacks import EarlyStopping\n",
        "\n"
      ]
    },
    {
      "cell_type": "code",
      "source": [
        "# Chia tập dữ liệu thành 2 bộ train và test\n",
        "from keras.datasets import mnist\n",
        "import matplotlib.pyplot as plt \n",
        "(x_train, y_train),(x_test,y_test) = mnist.load_data()\n",
        "for i in range (9):\n",
        "  plt.subplot(330+i+1)\n",
        "  plt.imshow(x_train[i],cmap=plt.get_cmap('gray'))       \n",
        "plt.show()\n"
      ],
      "metadata": {
        "colab": {
          "base_uri": "https://localhost:8080/",
          "height": 268
        },
        "id": "Xgny9_xwqPVM",
        "outputId": "eae2c2e2-4a01-4ffa-ae96-efeda4ca2393"
      },
      "execution_count": null,
      "outputs": [
        {
          "output_type": "display_data",
          "data": {
            "text/plain": [
              "<Figure size 432x288 with 9 Axes>"
            ],
            "image/png": "[encoded data removed]"
          },
          "metadata": {
            "needs_background": "light"
          }
        }
      ]
    },
    {
      "cell_type": "code",
      "source": [
        "#Chuyển chiều của x từ 3 chiều về 2 chiều\n",
        "x_train=x_train.reshape(60000,784)\n",
        "x_test=x_test.reshape(10000,784)\n",
        "x_train=x_train.astype('float32')\n",
        "x_test=x_test.astype('float32')\n",
        "x_train/=255\n",
        "x_test/=255\n",
        "y_train=np_utils.to_categorical(y_train,10)\n",
        "y_test= np_utils.to_categorical(y_test,10)\n",
        "\n"
      ],
      "metadata": {
        "id": "c9JdQGwIqUJW"
      },
      "execution_count": null,
      "outputs": []
    },
    {
      "cell_type": "code",
      "source": [
        "#Tạo mạng nơ-ron\n",
        "model = Sequential()\n",
        "model.add(Dense(512,activation='relu',input_shape=(784,)))\n",
        "model.add(Dropout(0.1))\n",
        "model.add(Dense(512,activation='relu'))\n",
        "model.add(Dropout(0.1))\n",
        "model.add(Dense(10,activation='softmax'))\n",
        "model.summary()\n",
        "\n"
      ],
      "metadata": {
        "colab": {
          "base_uri": "https://localhost:8080/"
        },
        "id": "0iHUlwW8qWkT",
        "outputId": "a61c755f-7200-4bdd-931d-dfd3668a3d9c"
      },
      "execution_count": null,
      "outputs": [
        {
          "output_type": "stream",
          "name": "stdout",
          "text": [
            "Model: \"sequential_2\"\n",
            "_________________________________________________________________\n",
            " Layer (type)                Output Shape              Param #   \n",
            "=================================================================\n",
            " dense_6 (Dense)             (None, 512)               401920    \n",
            "                                                                 \n",
            " dropout_4 (Dropout)         (None, 512)               0         \n",
            "                                                                 \n",
            " dense_7 (Dense)             (None, 512)               262656    \n",
            "                                                                 \n",
            " dropout_5 (Dropout)         (None, 512)               0         \n",
            "                                                                 \n",
            " dense_8 (Dense)             (None, 10)                5130      \n",
            "                                                                 \n",
            "=================================================================\n",
            "Total params: 669,706\n",
            "Trainable params: 669,706\n",
            "Non-trainable params: 0\n",
            "_________________________________________________________________\n"
          ]
        }
      ]
    },
    {
      "cell_type": "code",
      "source": [
        "#translate model\n",
        "model.compile(loss='categorical_crossentropy',optimizer=RMSprop(),metrics=['accuracy'])\n"
      ],
      "metadata": {
        "id": "dkoJobIuqdye"
      },
      "execution_count": null,
      "outputs": []
    },
    {
      "cell_type": "code",
      "source": [
        "y_pred= model.predict(x_test)\n",
        "print(y_pred.flatten)\n",
        "print(y_test)\n"
      ],
      "metadata": {
        "colab": {
          "base_uri": "https://localhost:8080/"
        },
        "id": "FigkrL-iwTfH",
        "outputId": "7f32e457-d2c2-4a7a-b936-477633cf6814"
      },
      "execution_count": null,
      "outputs": [
        {
          "output_type": "stream",
          "name": "stdout",
          "text": [
            "<built-in method flatten of numpy.ndarray object at 0x7f9ac60a1870>\n",
            "[[0. 0. 0. ... 1. 0. 0.]\n",
            " [0. 0. 1. ... 0. 0. 0.]\n",
            " [0. 1. 0. ... 0. 0. 0.]\n",
            " ...\n",
            " [0. 0. 0. ... 0. 0. 0.]\n",
            " [0. 0. 0. ... 0. 0. 0.]\n",
            " [0. 0. 0. ... 0. 0. 0.]]\n"
          ]
        }
      ]
    },
    {
      "cell_type": "code",
      "source": [
        "#Chạy model với số lần học là 500 và độ kiên nhẫn là 100\n",
        "history=model.fit(x_train,y_train,batch_size=128,epochs=500,verbose=1,validation_split=0.2,callbacks=[EarlyStopping(monitor='val_loss',patience=20)])\n"
      ],
      "metadata": {
        "colab": {
          "base_uri": "https://localhost:8080/"
        },
        "id": "kZ7SJCwSwZ3E",
        "outputId": "e679da46-3248-4aeb-e0e3-385ef9b37158"
      },
      "execution_count": null,
      "outputs": [
        {
          "output_type": "stream",
          "name": "stdout",
          "text": [
            "Epoch 1/500\n",
            "375/375 [==============================] - 8s 21ms/step - loss: 0.0085 - accuracy: 0.9979 - val_loss: 0.2103 - val_accuracy: 0.9793\n",
            "Epoch 2/500\n",
            "375/375 [==============================] - 8s 21ms/step - loss: 0.0074 - accuracy: 0.9982 - val_loss: 0.2111 - val_accuracy: 0.9808\n",
            "Epoch 3/500\n",
            "375/375 [==============================] - 8s 21ms/step - loss: 0.0066 - accuracy: 0.9981 - val_loss: 0.2438 - val_accuracy: 0.9783\n",
            "Epoch 4/500\n",
            "375/375 [==============================] - 8s 20ms/step - loss: 0.0056 - accuracy: 0.9984 - val_loss: 0.2293 - val_accuracy: 0.9809\n",
            "Epoch 5/500\n",
            "375/375 [==============================] - 8s 21ms/step - loss: 0.0070 - accuracy: 0.9982 - val_loss: 0.2051 - val_accuracy: 0.9817\n",
            "Epoch 6/500\n",
            "375/375 [==============================] - 8s 21ms/step - loss: 0.0056 - accuracy: 0.9986 - val_loss: 0.2145 - val_accuracy: 0.9818\n",
            "Epoch 7/500\n",
            "375/375 [==============================] - 8s 20ms/step - loss: 0.0073 - accuracy: 0.9982 - val_loss: 0.2588 - val_accuracy: 0.9798\n",
            "Epoch 8/500\n",
            "375/375 [==============================] - 8s 21ms/step - loss: 0.0065 - accuracy: 0.9984 - val_loss: 0.2390 - val_accuracy: 0.9814\n",
            "Epoch 9/500\n",
            "375/375 [==============================] - 8s 20ms/step - loss: 0.0060 - accuracy: 0.9985 - val_loss: 0.2496 - val_accuracy: 0.9794\n",
            "Epoch 10/500\n",
            "375/375 [==============================] - 8s 22ms/step - loss: 0.0064 - accuracy: 0.9984 - val_loss: 0.2237 - val_accuracy: 0.9811\n",
            "Epoch 11/500\n",
            "375/375 [==============================] - 8s 21ms/step - loss: 0.0063 - accuracy: 0.9985 - val_loss: 0.2256 - val_accuracy: 0.9833\n",
            "Epoch 12/500\n",
            "375/375 [==============================] - 8s 20ms/step - loss: 0.0049 - accuracy: 0.9987 - val_loss: 0.2632 - val_accuracy: 0.9801\n",
            "Epoch 13/500\n",
            "375/375 [==============================] - 8s 21ms/step - loss: 0.0075 - accuracy: 0.9984 - val_loss: 0.2229 - val_accuracy: 0.9827\n",
            "Epoch 14/500\n",
            "375/375 [==============================] - 8s 21ms/step - loss: 0.0056 - accuracy: 0.9986 - val_loss: 0.2474 - val_accuracy: 0.9807\n",
            "Epoch 15/500\n",
            "375/375 [==============================] - 8s 21ms/step - loss: 0.0060 - accuracy: 0.9987 - val_loss: 0.2558 - val_accuracy: 0.9824\n",
            "Epoch 16/500\n",
            "375/375 [==============================] - 8s 20ms/step - loss: 0.0060 - accuracy: 0.9987 - val_loss: 0.2647 - val_accuracy: 0.9807\n",
            "Epoch 17/500\n",
            "375/375 [==============================] - 9s 23ms/step - loss: 0.0061 - accuracy: 0.9985 - val_loss: 0.2405 - val_accuracy: 0.9832\n",
            "Epoch 18/500\n",
            "375/375 [==============================] - 8s 21ms/step - loss: 0.0060 - accuracy: 0.9987 - val_loss: 0.2488 - val_accuracy: 0.9819\n",
            "Epoch 19/500\n",
            "375/375 [==============================] - 8s 20ms/step - loss: 0.0058 - accuracy: 0.9990 - val_loss: 0.2730 - val_accuracy: 0.9826\n",
            "Epoch 20/500\n",
            "375/375 [==============================] - 8s 21ms/step - loss: 0.0080 - accuracy: 0.9986 - val_loss: 0.2926 - val_accuracy: 0.9810\n",
            "Epoch 21/500\n",
            "375/375 [==============================] - 8s 22ms/step - loss: 0.0050 - accuracy: 0.9989 - val_loss: 0.3060 - val_accuracy: 0.9811\n",
            "Epoch 22/500\n",
            "375/375 [==============================] - 8s 21ms/step - loss: 0.0070 - accuracy: 0.9986 - val_loss: 0.2851 - val_accuracy: 0.9819\n",
            "Epoch 23/500\n",
            "375/375 [==============================] - 8s 21ms/step - loss: 0.0049 - accuracy: 0.9986 - val_loss: 0.2999 - val_accuracy: 0.9806\n",
            "Epoch 24/500\n",
            "375/375 [==============================] - 8s 22ms/step - loss: 0.0062 - accuracy: 0.9986 - val_loss: 0.2775 - val_accuracy: 0.9817\n",
            "Epoch 25/500\n",
            "375/375 [==============================] - 8s 21ms/step - loss: 0.0065 - accuracy: 0.9986 - val_loss: 0.3045 - val_accuracy: 0.9801\n"
          ]
        }
      ]
    },
    {
      "cell_type": "code",
      "source": [
        "y_pred= model.predict(x_test)\n",
        "print(y_pred.flatten)\n",
        "print(y_test)\n"
      ],
      "metadata": {
        "colab": {
          "base_uri": "https://localhost:8080/"
        },
        "id": "Zj7XUZEn3bh1",
        "outputId": "4b1c8fa1-c54e-4f78-fb9e-413929072ea6"
      },
      "execution_count": null,
      "outputs": [
        {
          "output_type": "stream",
          "name": "stdout",
          "text": [
            "<built-in method flatten of numpy.ndarray object at 0x7f9ac5d93ed0>\n",
            "[[0. 0. 0. ... 1. 0. 0.]\n",
            " [0. 0. 1. ... 0. 0. 0.]\n",
            " [0. 1. 0. ... 0. 0. 0.]\n",
            " ...\n",
            " [0. 0. 0. ... 0. 0. 0.]\n",
            " [0. 0. 0. ... 0. 0. 0.]\n",
            " [0. 0. 0. ... 0. 0. 0.]]\n"
          ]
        }
      ]
    },
    {
      "cell_type": "code",
      "source": [
        "# Danh gia do chinh xac\n",
        "score = model.evaluate(x_test,y_test,verbose=0)\n",
        "print('Test_loss :',score[0])\n",
        "print('Test accuracy : ',score[1])\n"
      ],
      "metadata": {
        "colab": {
          "base_uri": "https://localhost:8080/"
        },
        "id": "072YnW-cwcp2",
        "outputId": "27a2df18-4fa5-48ad-b816-3ebd2eee19ab"
      },
      "execution_count": null,
      "outputs": [
        {
          "output_type": "stream",
          "name": "stdout",
          "text": [
            "Test_loss : 0.2566152513027191\n",
            "Test accuracy :  0.9819999933242798\n"
          ]
        }
      ]
    },
    {
      "cell_type": "code",
      "source": [
        "plt.plot(history.history['accuracy'])\n",
        "plt.plot(history. history['val_accuracy'])\n",
        "plt.title('Model accurancy')\n",
        "plt.ylabel('accurancy')\n",
        "plt.xlabel('epochs')\n",
        "plt.legend(['train','validation'])\n",
        "plt.show()\n"
      ],
      "metadata": {
        "colab": {
          "base_uri": "https://localhost:8080/",
          "height": 295
        },
        "id": "u5k5wQ643eu3",
        "outputId": "d9366dcd-a893-4a8d-809c-1d672982f46a"
      },
      "execution_count": null,
      "outputs": [
        {
          "output_type": "display_data",
          "data": {
            "text/plain": [
              "<Figure size 432x288 with 1 Axes>"
            ],
            "image/png": "[encoded data removed]"
          },
          "metadata": {
            "needs_background": "light"
          }
        }
      ]
    }
  ]
}